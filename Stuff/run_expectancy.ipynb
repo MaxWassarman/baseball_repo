{
 "cells": [
  {
   "cell_type": "code",
   "execution_count": 32,
   "metadata": {},
   "outputs": [],
   "source": [
    "#Credit to https://github.com/sam-walsh/pitching_model/blob/main/predictive_run_values.ipynb\n",
    "import pandas as pd\n",
    "import numpy as np\n",
    "from catboost import CatBoostRegressor\n",
    "from sklearn.model_selection import train_test_split\n",
    "from sklearn.metrics import mean_squared_error\n",
    "from sklearn.model_selection import cross_val_score, KFold"
   ]
  },
  {
   "cell_type": "code",
   "execution_count": 77,
   "metadata": {},
   "outputs": [],
   "source": [
    "df_2023 = pd.read_csv(\"Statcast_2023.csv\")\n",
    "df_2021_22 = pd.read_csv(\"Statcast_2020_to_2022.csv\")"
   ]
  },
  {
   "cell_type": "code",
   "execution_count": 113,
   "metadata": {},
   "outputs": [],
   "source": [
    "df_all_years = pd.concat([df_2023, df_2021_22])"
   ]
  },
  {
   "cell_type": "code",
   "execution_count": 114,
   "metadata": {},
   "outputs": [],
   "source": [
    "df_all_years['new_run_value'] = df_all_years.groupby(['events'])['delta_run_exp'].transform('mean')"
   ]
  },
  {
   "cell_type": "code",
   "execution_count": 115,
   "metadata": {},
   "outputs": [
    {
     "data": {
      "text/plain": [
       "['called_strike',\n",
       " 'ball',\n",
       " 'foul',\n",
       " 'hit_into_play',\n",
       " 'foul_tip',\n",
       " 'swinging_strike',\n",
       " 'blocked_ball',\n",
       " 'swinging_strike_blocked',\n",
       " 'foul_bunt',\n",
       " 'hit_by_pitch',\n",
       " 'pitchout',\n",
       " 'missed_bunt',\n",
       " 'bunt_foul_tip',\n",
       " 'foul_pitchout']"
      ]
     },
     "execution_count": 115,
     "metadata": {},
     "output_type": "execute_result"
    }
   ],
   "source": [
    "df_all_years['description'].unique().tolist()"
   ]
  },
  {
   "cell_type": "code",
   "execution_count": 116,
   "metadata": {},
   "outputs": [],
   "source": [
    "simple_descriptions_list = {\n",
    "    'called_strike': 'called_strike',\n",
    "    'ball': 'ball',\n",
    "    'foul': 'foul',\n",
    "    'foul_tip': 'foul',\n",
    "    'swinging_strike': 'swinging_strike',\n",
    "    'blocked_ball': 'ball',\n",
    "    'swinging_strike_blocked': 'swinging_strike',\n",
    "    'foul_bunt': 'foul',\n",
    "    'pitchout': 'ball',\n",
    "    'missed_bunt': 'swinging_strike',\n",
    "    'bunt_foul_tip': 'foul',\n",
    "    'foul_pitchout': 'foul'\n",
    "}"
   ]
  },
  {
   "cell_type": "code",
   "execution_count": 117,
   "metadata": {},
   "outputs": [],
   "source": [
    "df_all_years['simple_description'] = df_all_years['description'].map(simple_descriptions_list)"
   ]
  },
  {
   "cell_type": "code",
   "execution_count": 118,
   "metadata": {},
   "outputs": [
    {
     "data": {
      "text/plain": [
       "simple_description\n",
       "ball               0.057641\n",
       "called_strike     -0.064107\n",
       "foul              -0.040587\n",
       "swinging_strike   -0.116211\n",
       "Name: delta_run_exp, dtype: float64"
      ]
     },
     "execution_count": 118,
     "metadata": {},
     "output_type": "execute_result"
    }
   ],
   "source": [
    "not_inplay = df_all_years[df_all_years['description']!='hit_into_play']\n",
    "not_inplay_run_values = not_inplay.groupby(['simple_description'])['delta_run_exp'].mean()\n",
    "not_inplay_run_values"
   ]
  },
  {
   "cell_type": "code",
   "execution_count": 119,
   "metadata": {},
   "outputs": [],
   "source": [
    "df_all_years.loc[df_all_years['simple_description'].notna(), 'new_run_value'] = df_all_years.loc[df_all_years['simple_description'].notna(), 'simple_description'].map(not_inplay_run_values)"
   ]
  },
  {
   "cell_type": "code",
   "execution_count": 120,
   "metadata": {},
   "outputs": [],
   "source": [
    "df_inplay = df_all_years[df_all_years['description'] == 'hit_into_play']\n",
    "df_not_inplay = df_all_years[df_all_years['description'] != 'hit_into_play']"
   ]
  },
  {
   "cell_type": "code",
   "execution_count": 121,
   "metadata": {},
   "outputs": [],
   "source": [
    "features = ['launch_speed', 'launch_angle', 'hit_distance_sc']\n",
    "target = 'new_run_value'\n",
    "\n",
    "X = df_inplay[features]\n",
    "y = df_inplay[target]"
   ]
  },
  {
   "cell_type": "code",
   "execution_count": null,
   "metadata": {},
   "outputs": [],
   "source": [
    "#Random\n",
    "model = CatBoostRegressor(iterations=1000, \n",
    "                          learning_rate=0.1, \n",
    "                          depth=6, \n",
    "                          loss_function='RMSE',\n",
    "                          random_state=12345,\n",
    "                          verbose=100)\n",
    "\n",
    "\n",
    "cv = KFold(n_splits=5, shuffle=True, random_state=12345)\n",
    "cv_scores = cross_val_score(model, X, y, cv=cv, scoring='neg_mean_squared_error')\n",
    "cv_scores"
   ]
  },
  {
   "cell_type": "code",
   "execution_count": null,
   "metadata": {},
   "outputs": [],
   "source": [
    "final_model = CatBoostRegressor(iterations=1000, \n",
    "                                learning_rate=0.1, \n",
    "                                depth=6, \n",
    "                                loss_function='RMSE',\n",
    "                                random_state=12345,\n",
    "                                verbose=100)\n",
    "final_model.fit(X, y)"
   ]
  },
  {
   "cell_type": "code",
   "execution_count": null,
   "metadata": {},
   "outputs": [],
   "source": [
    "df_inplay['new_run_value'] = final_model.predict(X)"
   ]
  },
  {
   "cell_type": "code",
   "execution_count": 148,
   "metadata": {},
   "outputs": [],
   "source": [
    "df_final = pd.concat([df_inplay,df_not_inplay],ignore_index=True)"
   ]
  },
  {
   "cell_type": "code",
   "execution_count": 154,
   "metadata": {},
   "outputs": [],
   "source": [
    "df_final.to_csv(\"Statcast_2020_to_2023.csv\")"
   ]
  }
 ],
 "metadata": {
  "kernelspec": {
   "display_name": "baseball",
   "language": "python",
   "name": "python3"
  },
  "language_info": {
   "codemirror_mode": {
    "name": "ipython",
    "version": 3
   },
   "file_extension": ".py",
   "mimetype": "text/x-python",
   "name": "python",
   "nbconvert_exporter": "python",
   "pygments_lexer": "ipython3",
   "version": "3.12.2"
  },
  "orig_nbformat": 4
 },
 "nbformat": 4,
 "nbformat_minor": 2
}
